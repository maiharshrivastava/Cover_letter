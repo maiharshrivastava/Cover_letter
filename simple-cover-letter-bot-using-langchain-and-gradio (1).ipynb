{
 "cells": [
  {
   "cell_type": "markdown",
   "id": "a001559c",
   "metadata": {
    "papermill": {
     "duration": 0.010411,
     "end_time": "2023-11-20T11:12:27.384889",
     "exception": false,
     "start_time": "2023-11-20T11:12:27.374478",
     "status": "completed"
    },
    "tags": []
   },
   "source": [
    "# Objective"
   ]
  },
  {
   "cell_type": "markdown",
   "id": "99da82e8",
   "metadata": {
    "papermill": {
     "duration": 0.009549,
     "end_time": "2023-11-20T11:12:27.404816",
     "exception": false,
     "start_time": "2023-11-20T11:12:27.395267",
     "status": "completed"
    },
    "tags": []
   },
   "source": [
    "The aim of this project is to build a Simple Cover Letter Bot using LangChain and Gradio. We would be utilizing the \"gpt-3.5-turbo\" LLM from Open AI."
   ]
  },
  {
   "cell_type": "markdown",
   "id": "7e715498",
   "metadata": {
    "papermill": {
     "duration": 0.009443,
     "end_time": "2023-11-20T11:12:27.424010",
     "exception": false,
     "start_time": "2023-11-20T11:12:27.414567",
     "status": "completed"
    },
    "tags": []
   },
   "source": [
    "# Introduction"
   ]
  },
  {
   "cell_type": "markdown",
   "id": "8be82fd6",
   "metadata": {
    "papermill": {
     "duration": 0.009482,
     "end_time": "2023-11-20T11:12:27.443175",
     "exception": false,
     "start_time": "2023-11-20T11:12:27.433693",
     "status": "completed"
    },
    "tags": []
   },
   "source": [
    "## What is LangChain?"
   ]
  },
  {
   "cell_type": "markdown",
   "id": "96284974",
   "metadata": {
    "papermill": {
     "duration": 0.009473,
     "end_time": "2023-11-20T11:12:27.462512",
     "exception": false,
     "start_time": "2023-11-20T11:12:27.453039",
     "status": "completed"
    },
    "tags": []
   },
   "source": [
    "LangChain is an open-source framework for developing applications powered by language models. It is designed to ease the process of building these applications by providing a set of tools that make it easier to connect language models to other data sources, interact with their environment, and build complex applications. It is a system composed of different parts that work together to make applications using natural language processing (NLP) run smoothly. Here's a breakdown:\n",
    "\n",
    "- Model Interaction: This part helps LangChain talk to language models. It helps manage what goes into the model and understand what comes out.\n",
    "\n",
    "- Data Connection and Retrieval: LangChain needs to handle the data that language models use. This part helps store and fetch that data from databases.\n",
    "\n",
    "- Chains: When you're building more complex apps with LangChain, you might need different components or multiple language models. This part links them together in what's called an \"LLM chain.\"\n",
    "\n",
    "- Agents: Think of this as the decision-maker. It helps language models figure out the best actions to take by giving them a series of commands to respond to specific requests.\n",
    "\n",
    "- Memory: This part helps a language model remember the context of its interactions with users. It can remember things for a short time or for a long time, depending on what's needed."
   ]
  },
  {
   "cell_type": "markdown",
   "id": "f8ed0785",
   "metadata": {
    "papermill": {
     "duration": 0.009483,
     "end_time": "2023-11-20T11:12:27.481677",
     "exception": false,
     "start_time": "2023-11-20T11:12:27.472194",
     "status": "completed"
    },
    "tags": []
   },
   "source": [
    "![LangChain](http://cdn.analyticsvidhya.com/wp-content/uploads/2023/07/langchain3.png)"
   ]
  },
  {
   "cell_type": "markdown",
   "id": "b94b40ed",
   "metadata": {
    "papermill": {
     "duration": 0.009467,
     "end_time": "2023-11-20T11:12:27.558831",
     "exception": false,
     "start_time": "2023-11-20T11:12:27.549364",
     "status": "completed"
    },
    "tags": []
   },
   "source": [
    "# Installing Requirements"
   ]
  },
  {
   "cell_type": "markdown",
   "id": "8f3f3a0e",
   "metadata": {
    "papermill": {
     "duration": 0.009641,
     "end_time": "2023-11-20T11:12:27.578874",
     "exception": false,
     "start_time": "2023-11-20T11:12:27.569233",
     "status": "completed"
    },
    "tags": []
   },
   "source": [
    "Firstly, we install LangChain, OpenAI and Gradio packages."
   ]
  },
  {
   "cell_type": "code",
   "execution_count": 1,
   "id": "4186dff8",
   "metadata": {
    "execution": {
     "iopub.execute_input": "2023-11-20T11:12:27.601225Z",
     "iopub.status.busy": "2023-11-20T11:12:27.600340Z",
     "iopub.status.idle": "2023-11-20T11:12:27.612013Z",
     "shell.execute_reply": "2023-11-20T11:12:27.610992Z"
    },
    "papermill": {
     "duration": 0.025938,
     "end_time": "2023-11-20T11:12:27.614561",
     "exception": false,
     "start_time": "2023-11-20T11:12:27.588623",
     "status": "completed"
    },
    "tags": []
   },
   "outputs": [],
   "source": [
    "import warnings\n",
    "warnings.filterwarnings('ignore')"
   ]
  },
  {
   "cell_type": "code",
   "execution_count": 2,
   "id": "ead8c3eb",
   "metadata": {
    "execution": {
     "iopub.execute_input": "2023-11-20T11:12:27.636823Z",
     "iopub.status.busy": "2023-11-20T11:12:27.636152Z",
     "iopub.status.idle": "2023-11-20T11:13:11.597955Z",
     "shell.execute_reply": "2023-11-20T11:13:11.596694Z"
    },
    "papermill": {
     "duration": 43.975919,
     "end_time": "2023-11-20T11:13:11.600681",
     "exception": false,
     "start_time": "2023-11-20T11:12:27.624762",
     "status": "completed"
    },
    "tags": []
   },
   "outputs": [
    {
     "name": "stdout",
     "output_type": "stream",
     "text": [
      "Collecting gradio\n",
      "  Obtaining dependency information for gradio from https://files.pythonhosted.org/packages/25/66/b83fde3c956df599dd1229dd71c77a3cc960bd199e30e14ea70b711263eb/gradio-4.4.1-py3-none-any.whl.metadata\n",
      "  Downloading gradio-4.4.1-py3-none-any.whl.metadata (17 kB)\n",
      "Collecting aiofiles<24.0,>=22.0 (from gradio)\n",
      "  Obtaining dependency information for aiofiles<24.0,>=22.0 from https://files.pythonhosted.org/packages/c5/19/5af6804c4cc0fed83f47bff6e413a98a36618e7d40185cd36e69737f3b0e/aiofiles-23.2.1-py3-none-any.whl.metadata\n",
      "  Downloading aiofiles-23.2.1-py3-none-any.whl.metadata (9.7 kB)\n",
      "Requirement already satisfied: altair<6.0,>=4.2.0 in /opt/conda/lib/python3.10/site-packages (from gradio) (5.1.2)\n",
      "Requirement already satisfied: fastapi in /opt/conda/lib/python3.10/site-packages (from gradio) (0.101.1)\n",
      "Collecting ffmpy (from gradio)\n",
      "  Downloading ffmpy-0.3.1.tar.gz (5.5 kB)\n",
      "  Preparing metadata (setup.py) ... \u001b[?25ldone\n",
      "\u001b[?25hCollecting gradio-client==0.7.0 (from gradio)\n",
      "  Obtaining dependency information for gradio-client==0.7.0 from https://files.pythonhosted.org/packages/34/0d/94ef1fe636519984b50a1a8dc1339601e45af32b9cf7e78c67e595a75c73/gradio_client-0.7.0-py3-none-any.whl.metadata\n",
      "  Downloading gradio_client-0.7.0-py3-none-any.whl.metadata (7.1 kB)\n",
      "Collecting httpx (from gradio)\n",
      "  Obtaining dependency information for httpx from https://files.pythonhosted.org/packages/82/61/a5fca4a1e88e40969bbd0cf0d981f3aa76d5057db160b94f49603fc18740/httpx-0.25.1-py3-none-any.whl.metadata\n",
      "  Downloading httpx-0.25.1-py3-none-any.whl.metadata (7.1 kB)\n",
      "Requirement already satisfied: huggingface-hub>=0.14.0 in /opt/conda/lib/python3.10/site-packages (from gradio) (0.17.3)\n",
      "Requirement already satisfied: importlib-resources<7.0,>=1.3 in /opt/conda/lib/python3.10/site-packages (from gradio) (5.13.0)\n",
      "Requirement already satisfied: jinja2<4.0 in /opt/conda/lib/python3.10/site-packages (from gradio) (3.1.2)\n",
      "Requirement already satisfied: markupsafe~=2.0 in /opt/conda/lib/python3.10/site-packages (from gradio) (2.1.3)\n",
      "Requirement already satisfied: matplotlib~=3.0 in /opt/conda/lib/python3.10/site-packages (from gradio) (3.7.3)\n",
      "Requirement already satisfied: numpy~=1.0 in /opt/conda/lib/python3.10/site-packages (from gradio) (1.24.3)\n",
      "Requirement already satisfied: orjson~=3.0 in /opt/conda/lib/python3.10/site-packages (from gradio) (3.9.5)\n",
      "Requirement already satisfied: packaging in /opt/conda/lib/python3.10/site-packages (from gradio) (21.3)\n",
      "Requirement already satisfied: pandas<3.0,>=1.0 in /opt/conda/lib/python3.10/site-packages (from gradio) (2.0.3)\n",
      "Requirement already satisfied: pillow<11.0,>=8.0 in /opt/conda/lib/python3.10/site-packages (from gradio) (10.1.0)\n",
      "Collecting pydantic>=2.0 (from gradio)\n",
      "  Obtaining dependency information for pydantic>=2.0 from https://files.pythonhosted.org/packages/e2/2c/9906b7abc337b0250a5634de5396e2f3cb1b837af0616424c2225a65aa80/pydantic-2.5.1-py3-none-any.whl.metadata\n",
      "  Downloading pydantic-2.5.1-py3-none-any.whl.metadata (64 kB)\n",
      "\u001b[2K     \u001b[90m━━━━━━━━━━━━━━━━━━━━━━━━━━━━━━━━━━━━━━━━\u001b[0m \u001b[32m64.1/64.1 kB\u001b[0m \u001b[31m2.6 MB/s\u001b[0m eta \u001b[36m0:00:00\u001b[0m\n",
      "\u001b[?25hRequirement already satisfied: pydub in /opt/conda/lib/python3.10/site-packages (from gradio) (0.25.1)\n",
      "Collecting python-multipart (from gradio)\n",
      "  Downloading python_multipart-0.0.6-py3-none-any.whl (45 kB)\n",
      "\u001b[2K     \u001b[90m━━━━━━━━━━━━━━━━━━━━━━━━━━━━━━━━━━━━━━━━\u001b[0m \u001b[32m45.7/45.7 kB\u001b[0m \u001b[31m3.7 MB/s\u001b[0m eta \u001b[36m0:00:00\u001b[0m\n",
      "\u001b[?25hRequirement already satisfied: pyyaml<7.0,>=5.0 in /opt/conda/lib/python3.10/site-packages (from gradio) (6.0.1)\n",
      "Requirement already satisfied: requests~=2.0 in /opt/conda/lib/python3.10/site-packages (from gradio) (2.31.0)\n",
      "Collecting semantic-version~=2.0 (from gradio)\n",
      "  Downloading semantic_version-2.10.0-py2.py3-none-any.whl (15 kB)\n",
      "Collecting tomlkit==0.12.0 (from gradio)\n",
      "  Obtaining dependency information for tomlkit==0.12.0 from https://files.pythonhosted.org/packages/68/4f/12207897848a653d03ebbf6775a29d949408ded5f99b2d87198bc5c93508/tomlkit-0.12.0-py3-none-any.whl.metadata\n",
      "  Downloading tomlkit-0.12.0-py3-none-any.whl.metadata (2.7 kB)\n",
      "Requirement already satisfied: typer[all]<1.0,>=0.9 in /opt/conda/lib/python3.10/site-packages (from gradio) (0.9.0)\n",
      "Requirement already satisfied: typing-extensions~=4.0 in /opt/conda/lib/python3.10/site-packages (from gradio) (4.5.0)\n",
      "Requirement already satisfied: uvicorn>=0.14.0 in /opt/conda/lib/python3.10/site-packages (from gradio) (0.23.2)\n",
      "Requirement already satisfied: fsspec in /opt/conda/lib/python3.10/site-packages (from gradio-client==0.7.0->gradio) (2023.10.0)\n",
      "Collecting websockets<12.0,>=10.0 (from gradio-client==0.7.0->gradio)\n",
      "  Downloading websockets-11.0.3-cp310-cp310-manylinux_2_5_x86_64.manylinux1_x86_64.manylinux_2_17_x86_64.manylinux2014_x86_64.whl (129 kB)\n",
      "\u001b[2K     \u001b[90m━━━━━━━━━━━━━━━━━━━━━━━━━━━━━━━━━━━━━━━\u001b[0m \u001b[32m129.9/129.9 kB\u001b[0m \u001b[31m6.6 MB/s\u001b[0m eta \u001b[36m0:00:00\u001b[0m\n",
      "\u001b[?25hRequirement already satisfied: jsonschema>=3.0 in /opt/conda/lib/python3.10/site-packages (from altair<6.0,>=4.2.0->gradio) (4.19.0)\n",
      "Requirement already satisfied: toolz in /opt/conda/lib/python3.10/site-packages (from altair<6.0,>=4.2.0->gradio) (0.12.0)\n",
      "Requirement already satisfied: filelock in /opt/conda/lib/python3.10/site-packages (from huggingface-hub>=0.14.0->gradio) (3.12.2)\n",
      "Requirement already satisfied: tqdm>=4.42.1 in /opt/conda/lib/python3.10/site-packages (from huggingface-hub>=0.14.0->gradio) (4.66.1)\n",
      "Requirement already satisfied: contourpy>=1.0.1 in /opt/conda/lib/python3.10/site-packages (from matplotlib~=3.0->gradio) (1.1.0)\n",
      "Requirement already satisfied: cycler>=0.10 in /opt/conda/lib/python3.10/site-packages (from matplotlib~=3.0->gradio) (0.11.0)\n",
      "Requirement already satisfied: fonttools>=4.22.0 in /opt/conda/lib/python3.10/site-packages (from matplotlib~=3.0->gradio) (4.42.1)\n",
      "Requirement already satisfied: kiwisolver>=1.0.1 in /opt/conda/lib/python3.10/site-packages (from matplotlib~=3.0->gradio) (1.4.4)\n",
      "Requirement already satisfied: pyparsing>=2.3.1 in /opt/conda/lib/python3.10/site-packages (from matplotlib~=3.0->gradio) (3.0.9)\n",
      "Requirement already satisfied: python-dateutil>=2.7 in /opt/conda/lib/python3.10/site-packages (from matplotlib~=3.0->gradio) (2.8.2)\n",
      "Requirement already satisfied: pytz>=2020.1 in /opt/conda/lib/python3.10/site-packages (from pandas<3.0,>=1.0->gradio) (2023.3)\n",
      "Requirement already satisfied: tzdata>=2022.1 in /opt/conda/lib/python3.10/site-packages (from pandas<3.0,>=1.0->gradio) (2023.3)\n",
      "Collecting annotated-types>=0.4.0 (from pydantic>=2.0->gradio)\n",
      "  Obtaining dependency information for annotated-types>=0.4.0 from https://files.pythonhosted.org/packages/28/78/d31230046e58c207284c6b2c4e8d96e6d3cb4e52354721b944d3e1ee4aa5/annotated_types-0.6.0-py3-none-any.whl.metadata\n",
      "  Downloading annotated_types-0.6.0-py3-none-any.whl.metadata (12 kB)\n",
      "Collecting pydantic-core==2.14.3 (from pydantic>=2.0->gradio)\n",
      "  Obtaining dependency information for pydantic-core==2.14.3 from https://files.pythonhosted.org/packages/b8/e7/91f3c2e9ecff2dcd6126f3f5f3f20afcd6ed89d4757accbde8c7ac80c55e/pydantic_core-2.14.3-cp310-cp310-manylinux_2_17_x86_64.manylinux2014_x86_64.whl.metadata\n",
      "  Downloading pydantic_core-2.14.3-cp310-cp310-manylinux_2_17_x86_64.manylinux2014_x86_64.whl.metadata (6.5 kB)\n",
      "Collecting typing-extensions~=4.0 (from gradio)\n",
      "  Obtaining dependency information for typing-extensions~=4.0 from https://files.pythonhosted.org/packages/24/21/7d397a4b7934ff4028987914ac1044d3b7d52712f30e2ac7a2ae5bc86dd0/typing_extensions-4.8.0-py3-none-any.whl.metadata\n",
      "  Downloading typing_extensions-4.8.0-py3-none-any.whl.metadata (3.0 kB)\n",
      "Requirement already satisfied: charset-normalizer<4,>=2 in /opt/conda/lib/python3.10/site-packages (from requests~=2.0->gradio) (3.2.0)\n",
      "Requirement already satisfied: idna<4,>=2.5 in /opt/conda/lib/python3.10/site-packages (from requests~=2.0->gradio) (3.4)\n",
      "Requirement already satisfied: urllib3<3,>=1.21.1 in /opt/conda/lib/python3.10/site-packages (from requests~=2.0->gradio) (1.26.15)\n",
      "Requirement already satisfied: certifi>=2017.4.17 in /opt/conda/lib/python3.10/site-packages (from requests~=2.0->gradio) (2023.7.22)\n",
      "Requirement already satisfied: click<9.0.0,>=7.1.1 in /opt/conda/lib/python3.10/site-packages (from typer[all]<1.0,>=0.9->gradio) (8.1.7)\n",
      "Requirement already satisfied: colorama<0.5.0,>=0.4.3 in /opt/conda/lib/python3.10/site-packages (from typer[all]<1.0,>=0.9->gradio) (0.4.6)\n",
      "Collecting shellingham<2.0.0,>=1.3.0 (from typer[all]<1.0,>=0.9->gradio)\n",
      "  Obtaining dependency information for shellingham<2.0.0,>=1.3.0 from https://files.pythonhosted.org/packages/e0/f9/0595336914c5619e5f28a1fb793285925a8cd4b432c9da0a987836c7f822/shellingham-1.5.4-py2.py3-none-any.whl.metadata\n",
      "  Downloading shellingham-1.5.4-py2.py3-none-any.whl.metadata (3.5 kB)\n",
      "Requirement already satisfied: rich<14.0.0,>=10.11.0 in /opt/conda/lib/python3.10/site-packages (from typer[all]<1.0,>=0.9->gradio) (13.5.2)\n",
      "Requirement already satisfied: h11>=0.8 in /opt/conda/lib/python3.10/site-packages (from uvicorn>=0.14.0->gradio) (0.14.0)\n",
      "Requirement already satisfied: starlette<0.28.0,>=0.27.0 in /opt/conda/lib/python3.10/site-packages (from fastapi->gradio) (0.27.0)\n",
      "Requirement already satisfied: anyio in /opt/conda/lib/python3.10/site-packages (from httpx->gradio) (3.7.1)\n",
      "Collecting httpcore (from httpx->gradio)\n",
      "  Obtaining dependency information for httpcore from https://files.pythonhosted.org/packages/56/ba/78b0a99c4da0ff8b0f59defa2f13ca4668189b134bd9840b6202a93d9a0f/httpcore-1.0.2-py3-none-any.whl.metadata\n",
      "  Downloading httpcore-1.0.2-py3-none-any.whl.metadata (20 kB)\n",
      "Requirement already satisfied: sniffio in /opt/conda/lib/python3.10/site-packages (from httpx->gradio) (1.3.0)\n",
      "Requirement already satisfied: attrs>=22.2.0 in /opt/conda/lib/python3.10/site-packages (from jsonschema>=3.0->altair<6.0,>=4.2.0->gradio) (23.1.0)\n",
      "Requirement already satisfied: jsonschema-specifications>=2023.03.6 in /opt/conda/lib/python3.10/site-packages (from jsonschema>=3.0->altair<6.0,>=4.2.0->gradio) (2023.7.1)\n",
      "Requirement already satisfied: referencing>=0.28.4 in /opt/conda/lib/python3.10/site-packages (from jsonschema>=3.0->altair<6.0,>=4.2.0->gradio) (0.30.2)\n",
      "Requirement already satisfied: rpds-py>=0.7.1 in /opt/conda/lib/python3.10/site-packages (from jsonschema>=3.0->altair<6.0,>=4.2.0->gradio) (0.9.2)\n",
      "Requirement already satisfied: six>=1.5 in /opt/conda/lib/python3.10/site-packages (from python-dateutil>=2.7->matplotlib~=3.0->gradio) (1.16.0)\n",
      "Requirement already satisfied: markdown-it-py>=2.2.0 in /opt/conda/lib/python3.10/site-packages (from rich<14.0.0,>=10.11.0->typer[all]<1.0,>=0.9->gradio) (3.0.0)\n",
      "Requirement already satisfied: pygments<3.0.0,>=2.13.0 in /opt/conda/lib/python3.10/site-packages (from rich<14.0.0,>=10.11.0->typer[all]<1.0,>=0.9->gradio) (2.16.1)\n",
      "Requirement already satisfied: exceptiongroup in /opt/conda/lib/python3.10/site-packages (from anyio->httpx->gradio) (1.1.3)\n",
      "Requirement already satisfied: mdurl~=0.1 in /opt/conda/lib/python3.10/site-packages (from markdown-it-py>=2.2.0->rich<14.0.0,>=10.11.0->typer[all]<1.0,>=0.9->gradio) (0.1.2)\n",
      "Downloading gradio-4.4.1-py3-none-any.whl (15.4 MB)\n",
      "\u001b[2K   \u001b[90m━━━━━━━━━━━━━━━━━━━━━━━━━━━━━━━━━━━━━━━━\u001b[0m \u001b[32m15.4/15.4 MB\u001b[0m \u001b[31m53.9 MB/s\u001b[0m eta \u001b[36m0:00:00\u001b[0m\n",
      "\u001b[?25hDownloading gradio_client-0.7.0-py3-none-any.whl (302 kB)\n",
      "\u001b[2K   \u001b[90m━━━━━━━━━━━━━━━━━━━━━━━━━━━━━━━━━━━━━━━━\u001b[0m \u001b[32m302.7/302.7 kB\u001b[0m \u001b[31m19.5 MB/s\u001b[0m eta \u001b[36m0:00:00\u001b[0m\n",
      "\u001b[?25hDownloading tomlkit-0.12.0-py3-none-any.whl (37 kB)\n",
      "Downloading aiofiles-23.2.1-py3-none-any.whl (15 kB)\n",
      "Downloading pydantic-2.5.1-py3-none-any.whl (381 kB)\n",
      "\u001b[2K   \u001b[90m━━━━━━━━━━━━━━━━━━━━━━━━━━━━━━━━━━━━━━━━\u001b[0m \u001b[32m381.6/381.6 kB\u001b[0m \u001b[31m27.2 MB/s\u001b[0m eta \u001b[36m0:00:00\u001b[0m\n",
      "\u001b[?25hDownloading pydantic_core-2.14.3-cp310-cp310-manylinux_2_17_x86_64.manylinux2014_x86_64.whl (2.1 MB)\n",
      "\u001b[2K   \u001b[90m━━━━━━━━━━━━━━━━━━━━━━━━━━━━━━━━━━━━━━━━\u001b[0m \u001b[32m2.1/2.1 MB\u001b[0m \u001b[31m63.9 MB/s\u001b[0m eta \u001b[36m0:00:00\u001b[0m\n",
      "\u001b[?25hDownloading typing_extensions-4.8.0-py3-none-any.whl (31 kB)\n",
      "Downloading httpx-0.25.1-py3-none-any.whl (75 kB)\n",
      "\u001b[2K   \u001b[90m━━━━━━━━━━━━━━━━━━━━━━━━━━━━━━━━━━━━━━━━\u001b[0m \u001b[32m75.0/75.0 kB\u001b[0m \u001b[31m6.0 MB/s\u001b[0m eta \u001b[36m0:00:00\u001b[0m\n",
      "\u001b[?25hDownloading annotated_types-0.6.0-py3-none-any.whl (12 kB)\n",
      "Downloading shellingham-1.5.4-py2.py3-none-any.whl (9.8 kB)\n",
      "Downloading httpcore-1.0.2-py3-none-any.whl (76 kB)\n",
      "\u001b[2K   \u001b[90m━━━━━━━━━━━━━━━━━━━━━━━━━━━━━━━━━━━━━━━━\u001b[0m \u001b[32m76.9/76.9 kB\u001b[0m \u001b[31m6.1 MB/s\u001b[0m eta \u001b[36m0:00:00\u001b[0m\n",
      "\u001b[?25hBuilding wheels for collected packages: ffmpy\n",
      "  Building wheel for ffmpy (setup.py) ... \u001b[?25ldone\n",
      "\u001b[?25h  Created wheel for ffmpy: filename=ffmpy-0.3.1-py3-none-any.whl size=5579 sha256=4e600516ee541dce080e5c182cce15c858d4be68f258c5d1e76714d1cbe115df\n",
      "  Stored in directory: /root/.cache/pip/wheels/01/a6/d1/1c0828c304a4283b2c1639a09ad86f83d7c487ef34c6b4a1bf\n",
      "Successfully built ffmpy\n",
      "Installing collected packages: ffmpy, websockets, typing-extensions, tomlkit, shellingham, semantic-version, python-multipart, httpcore, annotated-types, aiofiles, pydantic-core, httpx, pydantic, gradio-client, gradio\n",
      "  Attempting uninstall: websockets\n",
      "    Found existing installation: websockets 12.0\n",
      "    Uninstalling websockets-12.0:\n",
      "      Successfully uninstalled websockets-12.0\n",
      "  Attempting uninstall: typing-extensions\n",
      "    Found existing installation: typing_extensions 4.5.0\n",
      "    Uninstalling typing_extensions-4.5.0:\n",
      "      Successfully uninstalled typing_extensions-4.5.0\n",
      "  Attempting uninstall: tomlkit\n",
      "    Found existing installation: tomlkit 0.12.2\n",
      "    Uninstalling tomlkit-0.12.2:\n",
      "      Successfully uninstalled tomlkit-0.12.2\n",
      "  Attempting uninstall: pydantic\n",
      "    Found existing installation: pydantic 1.10.12\n",
      "    Uninstalling pydantic-1.10.12:\n",
      "      Successfully uninstalled pydantic-1.10.12\n",
      "\u001b[31mERROR: pip's dependency resolver does not currently take into account all the packages that are installed. This behaviour is the source of the following dependency conflicts.\n",
      "apache-beam 2.46.0 requires dill<0.3.2,>=0.3.1.1, but you have dill 0.3.7 which is incompatible.\n",
      "jupyterlab 4.0.5 requires jupyter-lsp>=2.0.0, but you have jupyter-lsp 1.5.1 which is incompatible.\n",
      "jupyterlab-lsp 5.0.0 requires jupyter-lsp>=2.0.0, but you have jupyter-lsp 1.5.1 which is incompatible.\n",
      "jupyterlab-lsp 5.0.0 requires jupyterlab<5.0.0a0,>=4.0.6, but you have jupyterlab 4.0.5 which is incompatible.\n",
      "pymc3 3.11.5 requires numpy<1.22.2,>=1.15.0, but you have numpy 1.24.3 which is incompatible.\n",
      "pymc3 3.11.5 requires scipy<1.8.0,>=1.7.3, but you have scipy 1.11.3 which is incompatible.\n",
      "tensorflow 2.13.0 requires typing-extensions<4.6.0,>=3.6.6, but you have typing-extensions 4.8.0 which is incompatible.\n",
      "tensorflow-probability 0.21.0 requires typing-extensions<4.6.0, but you have typing-extensions 4.8.0 which is incompatible.\n",
      "tensorflowjs 4.12.0 requires packaging~=23.1, but you have packaging 21.3 which is incompatible.\n",
      "ydata-profiling 4.5.1 requires numpy<1.24,>=1.16.0, but you have numpy 1.24.3 which is incompatible.\n",
      "ydata-profiling 4.5.1 requires pydantic<2,>=1.8.1, but you have pydantic 2.5.1 which is incompatible.\u001b[0m\u001b[31m\n",
      "\u001b[0mSuccessfully installed aiofiles-23.2.1 annotated-types-0.6.0 ffmpy-0.3.1 gradio-4.4.1 gradio-client-0.7.0 httpcore-1.0.2 httpx-0.25.1 pydantic-2.5.1 pydantic-core-2.14.3 python-multipart-0.0.6 semantic-version-2.10.0 shellingham-1.5.4 tomlkit-0.12.0 typing-extensions-4.7.1 websockets-11.0.3\n",
      "Note: you may need to restart the kernel to use updated packages.\n"
     ]
    }
   ],
   "source": [
    "pip install gradio"
   ]
  },
  {
   "cell_type": "code",
   "execution_count": 3,
   "id": "5cd11cb9",
   "metadata": {
    "execution": {
     "iopub.execute_input": "2023-11-20T11:13:11.636895Z",
     "iopub.status.busy": "2023-11-20T11:13:11.635617Z",
     "iopub.status.idle": "2023-11-20T11:13:32.299134Z",
     "shell.execute_reply": "2023-11-20T11:13:32.297103Z"
    },
    "papermill": {
     "duration": 20.684911,
     "end_time": "2023-11-20T11:13:32.302389",
     "exception": false,
     "start_time": "2023-11-20T11:13:11.617478",
     "status": "completed"
    },
    "tags": []
   },
   "outputs": [
    {
     "name": "stdout",
     "output_type": "stream",
     "text": [
      "Collecting langchain\n",
      "  Obtaining dependency information for langchain from https://files.pythonhosted.org/packages/ce/3f/1dafc52526337d1c554227b0e6f16a1aee18e63bf5cd03fd7774297059b2/langchain-0.0.338-py3-none-any.whl.metadata\n",
      "  Downloading langchain-0.0.338-py3-none-any.whl.metadata (16 kB)\n",
      "Requirement already satisfied: PyYAML>=5.3 in /opt/conda/lib/python3.10/site-packages (from langchain) (6.0.1)\n",
      "Requirement already satisfied: SQLAlchemy<3,>=1.4 in /opt/conda/lib/python3.10/site-packages (from langchain) (2.0.20)\n",
      "Requirement already satisfied: aiohttp<4.0.0,>=3.8.3 in /opt/conda/lib/python3.10/site-packages (from langchain) (3.8.5)\n",
      "Requirement already satisfied: anyio<4.0 in /opt/conda/lib/python3.10/site-packages (from langchain) (3.7.1)\n",
      "Requirement already satisfied: async-timeout<5.0.0,>=4.0.0 in /opt/conda/lib/python3.10/site-packages (from langchain) (4.0.3)\n",
      "Requirement already satisfied: dataclasses-json<0.7,>=0.5.7 in /opt/conda/lib/python3.10/site-packages (from langchain) (0.6.1)\n",
      "Collecting jsonpatch<2.0,>=1.33 (from langchain)\n",
      "  Obtaining dependency information for jsonpatch<2.0,>=1.33 from https://files.pythonhosted.org/packages/73/07/02e16ed01e04a374e644b575638ec7987ae846d25ad97bcc9945a3ee4b0e/jsonpatch-1.33-py2.py3-none-any.whl.metadata\n",
      "  Downloading jsonpatch-1.33-py2.py3-none-any.whl.metadata (3.0 kB)\n",
      "Collecting langsmith<0.1.0,>=0.0.63 (from langchain)\n",
      "  Obtaining dependency information for langsmith<0.1.0,>=0.0.63 from https://files.pythonhosted.org/packages/a0/d4/79038c47526f84ad9b6ec2a27b46e8e97897e70cd0579c9a6dbcf1d2adea/langsmith-0.0.65-py3-none-any.whl.metadata\n",
      "  Downloading langsmith-0.0.65-py3-none-any.whl.metadata (10 kB)\n",
      "Requirement already satisfied: numpy<2,>=1 in /opt/conda/lib/python3.10/site-packages (from langchain) (1.24.3)\n",
      "Requirement already satisfied: pydantic<3,>=1 in /opt/conda/lib/python3.10/site-packages (from langchain) (2.5.1)\n",
      "Requirement already satisfied: requests<3,>=2 in /opt/conda/lib/python3.10/site-packages (from langchain) (2.31.0)\n",
      "Requirement already satisfied: tenacity<9.0.0,>=8.1.0 in /opt/conda/lib/python3.10/site-packages (from langchain) (8.2.3)\n",
      "Requirement already satisfied: attrs>=17.3.0 in /opt/conda/lib/python3.10/site-packages (from aiohttp<4.0.0,>=3.8.3->langchain) (23.1.0)\n",
      "Requirement already satisfied: charset-normalizer<4.0,>=2.0 in /opt/conda/lib/python3.10/site-packages (from aiohttp<4.0.0,>=3.8.3->langchain) (3.2.0)\n",
      "Requirement already satisfied: multidict<7.0,>=4.5 in /opt/conda/lib/python3.10/site-packages (from aiohttp<4.0.0,>=3.8.3->langchain) (6.0.4)\n",
      "Requirement already satisfied: yarl<2.0,>=1.0 in /opt/conda/lib/python3.10/site-packages (from aiohttp<4.0.0,>=3.8.3->langchain) (1.9.2)\n",
      "Requirement already satisfied: frozenlist>=1.1.1 in /opt/conda/lib/python3.10/site-packages (from aiohttp<4.0.0,>=3.8.3->langchain) (1.4.0)\n",
      "Requirement already satisfied: aiosignal>=1.1.2 in /opt/conda/lib/python3.10/site-packages (from aiohttp<4.0.0,>=3.8.3->langchain) (1.3.1)\n",
      "Requirement already satisfied: idna>=2.8 in /opt/conda/lib/python3.10/site-packages (from anyio<4.0->langchain) (3.4)\n",
      "Requirement already satisfied: sniffio>=1.1 in /opt/conda/lib/python3.10/site-packages (from anyio<4.0->langchain) (1.3.0)\n",
      "Requirement already satisfied: exceptiongroup in /opt/conda/lib/python3.10/site-packages (from anyio<4.0->langchain) (1.1.3)\n",
      "Requirement already satisfied: marshmallow<4.0.0,>=3.18.0 in /opt/conda/lib/python3.10/site-packages (from dataclasses-json<0.7,>=0.5.7->langchain) (3.20.1)\n",
      "Requirement already satisfied: typing-inspect<1,>=0.4.0 in /opt/conda/lib/python3.10/site-packages (from dataclasses-json<0.7,>=0.5.7->langchain) (0.9.0)\n",
      "Requirement already satisfied: jsonpointer>=1.9 in /opt/conda/lib/python3.10/site-packages (from jsonpatch<2.0,>=1.33->langchain) (2.0)\n",
      "Requirement already satisfied: annotated-types>=0.4.0 in /opt/conda/lib/python3.10/site-packages (from pydantic<3,>=1->langchain) (0.6.0)\n",
      "Requirement already satisfied: pydantic-core==2.14.3 in /opt/conda/lib/python3.10/site-packages (from pydantic<3,>=1->langchain) (2.14.3)\n",
      "Requirement already satisfied: typing-extensions>=4.6.1 in /opt/conda/lib/python3.10/site-packages (from pydantic<3,>=1->langchain) (4.7.1)\n",
      "Requirement already satisfied: urllib3<3,>=1.21.1 in /opt/conda/lib/python3.10/site-packages (from requests<3,>=2->langchain) (1.26.15)\n",
      "Requirement already satisfied: certifi>=2017.4.17 in /opt/conda/lib/python3.10/site-packages (from requests<3,>=2->langchain) (2023.7.22)\n",
      "Requirement already satisfied: greenlet!=0.4.17 in /opt/conda/lib/python3.10/site-packages (from SQLAlchemy<3,>=1.4->langchain) (2.0.2)\n",
      "Requirement already satisfied: packaging>=17.0 in /opt/conda/lib/python3.10/site-packages (from marshmallow<4.0.0,>=3.18.0->dataclasses-json<0.7,>=0.5.7->langchain) (21.3)\n",
      "Requirement already satisfied: mypy-extensions>=0.3.0 in /opt/conda/lib/python3.10/site-packages (from typing-inspect<1,>=0.4.0->dataclasses-json<0.7,>=0.5.7->langchain) (1.0.0)\n",
      "Requirement already satisfied: pyparsing!=3.0.5,>=2.0.2 in /opt/conda/lib/python3.10/site-packages (from packaging>=17.0->marshmallow<4.0.0,>=3.18.0->dataclasses-json<0.7,>=0.5.7->langchain) (3.0.9)\n",
      "Downloading langchain-0.0.338-py3-none-any.whl (2.0 MB)\n",
      "\u001b[2K   \u001b[90m━━━━━━━━━━━━━━━━━━━━━━━━━━━━━━━━━━━━━━━━\u001b[0m \u001b[32m2.0/2.0 MB\u001b[0m \u001b[31m20.5 MB/s\u001b[0m eta \u001b[36m0:00:00\u001b[0m\n",
      "\u001b[?25hDownloading jsonpatch-1.33-py2.py3-none-any.whl (12 kB)\n",
      "Downloading langsmith-0.0.65-py3-none-any.whl (46 kB)\n",
      "\u001b[2K   \u001b[90m━━━━━━━━━━━━━━━━━━━━━━━━━━━━━━━━━━━━━━━━\u001b[0m \u001b[32m46.1/46.1 kB\u001b[0m \u001b[31m3.7 MB/s\u001b[0m eta \u001b[36m0:00:00\u001b[0m\n",
      "\u001b[?25hInstalling collected packages: jsonpatch, langsmith, langchain\n",
      "  Attempting uninstall: jsonpatch\n",
      "    Found existing installation: jsonpatch 1.32\n",
      "    Uninstalling jsonpatch-1.32:\n",
      "      Successfully uninstalled jsonpatch-1.32\n",
      "Successfully installed jsonpatch-1.33 langchain-0.0.338 langsmith-0.0.65\n",
      "Note: you may need to restart the kernel to use updated packages.\n"
     ]
    }
   ],
   "source": [
    "pip install langchain"
   ]
  },
  {
   "cell_type": "code",
   "execution_count": 4,
   "id": "eb1c1d63",
   "metadata": {
    "execution": {
     "iopub.execute_input": "2023-11-20T11:13:32.341849Z",
     "iopub.status.busy": "2023-11-20T11:13:32.341426Z",
     "iopub.status.idle": "2023-11-20T11:13:48.181395Z",
     "shell.execute_reply": "2023-11-20T11:13:48.179523Z"
    },
    "papermill": {
     "duration": 15.86292,
     "end_time": "2023-11-20T11:13:48.183962",
     "exception": false,
     "start_time": "2023-11-20T11:13:32.321042",
     "status": "completed"
    },
    "tags": []
   },
   "outputs": [
    {
     "name": "stdout",
     "output_type": "stream",
     "text": [
      "Collecting openai\n",
      "  Obtaining dependency information for openai from https://files.pythonhosted.org/packages/69/95/22a9a81cebd54e18841da429f05f06ed867648768f7af938ad34f13197fd/openai-1.3.3-py3-none-any.whl.metadata\n",
      "  Downloading openai-1.3.3-py3-none-any.whl.metadata (16 kB)\n",
      "Requirement already satisfied: anyio<4,>=3.5.0 in /opt/conda/lib/python3.10/site-packages (from openai) (3.7.1)\n",
      "Collecting distro<2,>=1.7.0 (from openai)\n",
      "  Downloading distro-1.8.0-py3-none-any.whl (20 kB)\n",
      "Requirement already satisfied: httpx<1,>=0.23.0 in /opt/conda/lib/python3.10/site-packages (from openai) (0.25.1)\n",
      "Requirement already satisfied: pydantic<3,>=1.9.0 in /opt/conda/lib/python3.10/site-packages (from openai) (2.5.1)\n",
      "Requirement already satisfied: tqdm>4 in /opt/conda/lib/python3.10/site-packages (from openai) (4.66.1)\n",
      "Requirement already satisfied: typing-extensions<5,>=4.5 in /opt/conda/lib/python3.10/site-packages (from openai) (4.7.1)\n",
      "Requirement already satisfied: idna>=2.8 in /opt/conda/lib/python3.10/site-packages (from anyio<4,>=3.5.0->openai) (3.4)\n",
      "Requirement already satisfied: sniffio>=1.1 in /opt/conda/lib/python3.10/site-packages (from anyio<4,>=3.5.0->openai) (1.3.0)\n",
      "Requirement already satisfied: exceptiongroup in /opt/conda/lib/python3.10/site-packages (from anyio<4,>=3.5.0->openai) (1.1.3)\n",
      "Requirement already satisfied: certifi in /opt/conda/lib/python3.10/site-packages (from httpx<1,>=0.23.0->openai) (2023.7.22)\n",
      "Requirement already satisfied: httpcore in /opt/conda/lib/python3.10/site-packages (from httpx<1,>=0.23.0->openai) (1.0.2)\n",
      "Requirement already satisfied: annotated-types>=0.4.0 in /opt/conda/lib/python3.10/site-packages (from pydantic<3,>=1.9.0->openai) (0.6.0)\n",
      "Requirement already satisfied: pydantic-core==2.14.3 in /opt/conda/lib/python3.10/site-packages (from pydantic<3,>=1.9.0->openai) (2.14.3)\n",
      "Requirement already satisfied: h11<0.15,>=0.13 in /opt/conda/lib/python3.10/site-packages (from httpcore->httpx<1,>=0.23.0->openai) (0.14.0)\n",
      "Downloading openai-1.3.3-py3-none-any.whl (220 kB)\n",
      "\u001b[2K   \u001b[90m━━━━━━━━━━━━━━━━━━━━━━━━━━━━━━━━━━━━━━━━\u001b[0m \u001b[32m220.3/220.3 kB\u001b[0m \u001b[31m5.6 MB/s\u001b[0m eta \u001b[36m0:00:00\u001b[0m\n",
      "\u001b[?25hInstalling collected packages: distro, openai\n",
      "Successfully installed distro-1.8.0 openai-1.3.3\n",
      "Note: you may need to restart the kernel to use updated packages.\n"
     ]
    }
   ],
   "source": [
    "pip install openai"
   ]
  },
  {
   "cell_type": "markdown",
   "id": "2abdbe12",
   "metadata": {
    "papermill": {
     "duration": 0.019716,
     "end_time": "2023-11-20T11:13:48.223835",
     "exception": false,
     "start_time": "2023-11-20T11:13:48.204119",
     "status": "completed"
    },
    "tags": []
   },
   "source": [
    "# Importing Necessary Packages"
   ]
  },
  {
   "cell_type": "markdown",
   "id": "625b5cd8",
   "metadata": {
    "papermill": {
     "duration": 0.019173,
     "end_time": "2023-11-20T11:13:48.262295",
     "exception": false,
     "start_time": "2023-11-20T11:13:48.243122",
     "status": "completed"
    },
    "tags": []
   },
   "source": [
    "In programming, we now use “prompts” as inputs for models. These prompts are not fixed; they’re made from different parts. LangChain helps us build these prompts easily. It also helps manage and optimize them. One of the key features of LangChain is the ability to create a prompt template. This template takes the user’s input and transforms it into a final prompt for the model. This approach allows for a more dynamic and flexible interaction with the model, enhancing its usability and effectiveness. Using LangChain’s prompt template, we have the opportunity to develop an application that accepts specific inputs such as position, company, and skills, ultimately generating a customised cover letter based on these parameters. We will be using the prompt template for our cover letter bot."
   ]
  },
  {
   "cell_type": "code",
   "execution_count": 5,
   "id": "7b36b286",
   "metadata": {
    "execution": {
     "iopub.execute_input": "2023-11-20T11:13:48.303596Z",
     "iopub.status.busy": "2023-11-20T11:13:48.303136Z",
     "iopub.status.idle": "2023-11-20T11:13:53.886726Z",
     "shell.execute_reply": "2023-11-20T11:13:53.885282Z"
    },
    "papermill": {
     "duration": 5.608387,
     "end_time": "2023-11-20T11:13:53.890259",
     "exception": false,
     "start_time": "2023-11-20T11:13:48.281872",
     "status": "completed"
    },
    "tags": []
   },
   "outputs": [],
   "source": [
    "import gradio as gr\n",
    "from langchain.prompts import PromptTemplate\n",
    "import os\n",
    "from langchain.llms import OpenAI"
   ]
  },
  {
   "cell_type": "markdown",
   "id": "ad118bd1",
   "metadata": {
    "papermill": {
     "duration": 0.019845,
     "end_time": "2023-11-20T11:13:53.929792",
     "exception": false,
     "start_time": "2023-11-20T11:13:53.909947",
     "status": "completed"
    },
    "tags": []
   },
   "source": [
    "# Fetching the Model "
   ]
  },
  {
   "cell_type": "markdown",
   "id": "089a3229",
   "metadata": {
    "papermill": {
     "duration": 0.018864,
     "end_time": "2023-11-20T11:13:54.035594",
     "exception": false,
     "start_time": "2023-11-20T11:13:54.016730",
     "status": "completed"
    },
    "tags": []
   },
   "source": [
    "We will be using the  \"gpt-3.5-turbo\" LLM from Open AI. In order to be able to access the model, we need to assign an Open AI API key. You can retrieve your own API key by visiting the Open AI website (https://openai.com/), after logging in, in the top right corner of your screen you'll see an icon with your account name. Click it to open the dropdown menu then click \"View API keys\". \n",
    "- **Please Note:** Your API Keys should be kept safely and should not be exposed to anyone."
   ]
  },
  {
   "cell_type": "code",
   "execution_count": 6,
   "id": "75b05262",
   "metadata": {
    "execution": {
     "iopub.execute_input": "2023-11-20T11:13:54.077341Z",
     "iopub.status.busy": "2023-11-20T11:13:54.076297Z",
     "iopub.status.idle": "2023-11-20T11:13:54.333378Z",
     "shell.execute_reply": "2023-11-20T11:13:54.332122Z"
    },
    "papermill": {
     "duration": 0.281276,
     "end_time": "2023-11-20T11:13:54.336527",
     "exception": false,
     "start_time": "2023-11-20T11:13:54.055251",
     "status": "completed"
    },
    "tags": []
   },
   "outputs": [],
   "source": [
    "from kaggle_secrets import UserSecretsClient\n",
    "user_secrets = UserSecretsClient()\n",
    "secret_value_0 = user_secrets.get_secret(\"openai_api_key\")"
   ]
  },
  {
   "cell_type": "code",
   "execution_count": 7,
   "id": "4ce5a7b6",
   "metadata": {
    "execution": {
     "iopub.execute_input": "2023-11-20T11:13:54.378074Z",
     "iopub.status.busy": "2023-11-20T11:13:54.377603Z",
     "iopub.status.idle": "2023-11-20T11:13:54.382667Z",
     "shell.execute_reply": "2023-11-20T11:13:54.381659Z"
    },
    "papermill": {
     "duration": 0.028155,
     "end_time": "2023-11-20T11:13:54.384898",
     "exception": false,
     "start_time": "2023-11-20T11:13:54.356743",
     "status": "completed"
    },
    "tags": []
   },
   "outputs": [],
   "source": [
    "os.environ[\"OPENAI_API_KEY\"] = secret_value_0"
   ]
  },
  {
   "cell_type": "markdown",
   "id": "0704a4f2",
   "metadata": {
    "papermill": {
     "duration": 0.019165,
     "end_time": "2023-11-20T11:13:54.424038",
     "exception": false,
     "start_time": "2023-11-20T11:13:54.404873",
     "status": "completed"
    },
    "tags": []
   },
   "source": [
    "Above, I used the Kaggle 'Secrets' Add-on to store my API Key. Next, we specify/ fetch the model we will be using."
   ]
  },
  {
   "cell_type": "code",
   "execution_count": 8,
   "id": "6dfa84ab",
   "metadata": {
    "execution": {
     "iopub.execute_input": "2023-11-20T11:13:54.466230Z",
     "iopub.status.busy": "2023-11-20T11:13:54.464942Z",
     "iopub.status.idle": "2023-11-20T11:13:54.756356Z",
     "shell.execute_reply": "2023-11-20T11:13:54.755353Z"
    },
    "papermill": {
     "duration": 0.315136,
     "end_time": "2023-11-20T11:13:54.759080",
     "exception": false,
     "start_time": "2023-11-20T11:13:54.443944",
     "status": "completed"
    },
    "tags": []
   },
   "outputs": [],
   "source": [
    "llm = OpenAI(model_name = \"gpt-3.5-turbo\")"
   ]
  },
  {
   "cell_type": "markdown",
   "id": "b54660f7",
   "metadata": {
    "papermill": {
     "duration": 0.01923,
     "end_time": "2023-11-20T11:13:54.798798",
     "exception": false,
     "start_time": "2023-11-20T11:13:54.779568",
     "status": "completed"
    },
    "tags": []
   },
   "source": [
    "# Utilizing the Model"
   ]
  },
  {
   "cell_type": "markdown",
   "id": "73b679ef",
   "metadata": {
    "papermill": {
     "duration": 0.019287,
     "end_time": "2023-11-20T11:13:54.837425",
     "exception": false,
     "start_time": "2023-11-20T11:13:54.818138",
     "status": "completed"
    },
    "tags": []
   },
   "source": [
    "As we discussed previously, we would be using a prompt template for our cover letter bot."
   ]
  },
  {
   "cell_type": "code",
   "execution_count": 9,
   "id": "92747c7c",
   "metadata": {
    "execution": {
     "iopub.execute_input": "2023-11-20T11:13:54.880590Z",
     "iopub.status.busy": "2023-11-20T11:13:54.877942Z",
     "iopub.status.idle": "2023-11-20T11:13:54.885117Z",
     "shell.execute_reply": "2023-11-20T11:13:54.884219Z"
    },
    "papermill": {
     "duration": 0.030636,
     "end_time": "2023-11-20T11:13:54.887496",
     "exception": false,
     "start_time": "2023-11-20T11:13:54.856860",
     "status": "completed"
    },
    "tags": []
   },
   "outputs": [],
   "source": [
    "# Defining a PromptTemplate to format the prompt with user input\n",
    "prompt = PromptTemplate(\n",
    "    input_variables = [\"position\", \"company\", \"skills\"],\n",
    "    template = \"Dear Hiring Manager,\\n\\nI am writing to apply for the {position} position at {company}. I have experience in {skills}.\\n\\nThank you for considering my application.\\n\\nSincerely,\\n[Your Name]\",\n",
    "    )"
   ]
  },
  {
   "cell_type": "markdown",
   "id": "d0b1ccaa",
   "metadata": {
    "papermill": {
     "duration": 0.019422,
     "end_time": "2023-11-20T11:13:54.926800",
     "exception": false,
     "start_time": "2023-11-20T11:13:54.907378",
     "status": "completed"
    },
    "tags": []
   },
   "source": [
    "**Note:**\n",
    "\n",
    "- \\n - Means move to a new line or write on a new line\n",
    "- \\n\\n - So this means jump two lines"
   ]
  },
  {
   "cell_type": "markdown",
   "id": "fb6a78b7",
   "metadata": {
    "papermill": {
     "duration": 0.020139,
     "end_time": "2023-11-20T11:13:54.966501",
     "exception": false,
     "start_time": "2023-11-20T11:13:54.946362",
     "status": "completed"
    },
    "tags": []
   },
   "source": [
    "Basically, the application takes in specific inputs which are position, company, and skills and the template works with those specific inputs to give an output following the template format. Next, we define a function which would then generate a cover letter using the LLM and user input."
   ]
  },
  {
   "cell_type": "code",
   "execution_count": 10,
   "id": "e38cc276",
   "metadata": {
    "execution": {
     "iopub.execute_input": "2023-11-20T11:13:55.008377Z",
     "iopub.status.busy": "2023-11-20T11:13:55.007747Z",
     "iopub.status.idle": "2023-11-20T11:13:55.012732Z",
     "shell.execute_reply": "2023-11-20T11:13:55.011919Z"
    },
    "papermill": {
     "duration": 0.028892,
     "end_time": "2023-11-20T11:13:55.015054",
     "exception": false,
     "start_time": "2023-11-20T11:13:54.986162",
     "status": "completed"
    },
    "tags": []
   },
   "outputs": [],
   "source": [
    "# Defining a function to generate a cover letter using the llm and user input\n",
    "def generate_cover_letter(position: str, company: str, skills: str) -> str:\n",
    "    formatted_prompt = prompt.format(position=position, company=company, skills=skills)\n",
    "    response = llm(formatted_prompt)\n",
    "    return response"
   ]
  },
  {
   "cell_type": "markdown",
   "id": "bba9ca4e",
   "metadata": {
    "papermill": {
     "duration": 0.019601,
     "end_time": "2023-11-20T11:13:55.054302",
     "exception": false,
     "start_time": "2023-11-20T11:13:55.034701",
     "status": "completed"
    },
    "tags": []
   },
   "source": [
    "Next, we specify the Gradio interface output so we can interact with the cover letter bot on our browser/ share with people to interact with the cover letter bot on their browsers."
   ]
  },
  {
   "cell_type": "code",
   "execution_count": 11,
   "id": "d2888f11",
   "metadata": {
    "execution": {
     "iopub.execute_input": "2023-11-20T11:13:55.136330Z",
     "iopub.status.busy": "2023-11-20T11:13:55.135661Z",
     "iopub.status.idle": "2023-11-20T11:13:55.143426Z",
     "shell.execute_reply": "2023-11-20T11:13:55.142356Z"
    },
    "papermill": {
     "duration": 0.03182,
     "end_time": "2023-11-20T11:13:55.146200",
     "exception": false,
     "start_time": "2023-11-20T11:13:55.114380",
     "status": "completed"
    },
    "tags": []
   },
   "outputs": [],
   "source": [
    "# Defining the Gradio interface Output\n",
    "inputs=[\n",
    "    gr.Textbox(label=\"Position\"),\n",
    "    gr.Textbox(label=\"Company\"),\n",
    "    gr.Textbox(label=\"Skills\")\n",
    "]\n",
    "\n",
    "outputs=gr.Textbox(label=\"Cover Letter\")\n"
   ]
  },
  {
   "cell_type": "markdown",
   "id": "419a3512",
   "metadata": {
    "papermill": {
     "duration": 0.020534,
     "end_time": "2023-11-20T11:13:55.189774",
     "exception": false,
     "start_time": "2023-11-20T11:13:55.169240",
     "status": "completed"
    },
    "tags": []
   },
   "source": [
    "Now, we're all set to launch the Gradio interface!"
   ]
  },
  {
   "cell_type": "markdown",
   "id": "57f86375",
   "metadata": {
    "papermill": {
     "duration": 0.020458,
     "end_time": "2023-11-20T11:13:59.958095",
     "exception": false,
     "start_time": "2023-11-20T11:13:59.937637",
     "status": "completed"
    },
    "tags": []
   },
   "source": [
    "# Conclusion"
   ]
  },
  {
   "cell_type": "markdown",
   "id": "f281b539",
   "metadata": {
    "papermill": {
     "duration": 0.020732,
     "end_time": "2023-11-20T11:13:59.999526",
     "exception": false,
     "start_time": "2023-11-20T11:13:59.978794",
     "status": "completed"
    },
    "tags": []
   },
   "source": [
    "In this notebook, we've successfully combined LangChain, Gradio, and the GPT 3.5 Turbo LLM from Open AI to build a Simple Cover Letter Bot, showcasing the practical application of advanced AI tools. This notebook serves as an example of how AI can streamline and enhance everyday tasks. As AI continues to evolve, the potential for innovative solutions in various fields grows. Happy exploring!"
   ]
  }
 ],
 "metadata": {
  "kaggle": {
   "accelerator": "none",
   "dataSources": [],
   "dockerImageVersionId": 30579,
   "isGpuEnabled": false,
   "isInternetEnabled": true,
   "language": "python",
   "sourceType": "notebook"
  },
  "kernelspec": {
   "display_name": "Python 3 (ipykernel)",
   "language": "python",
   "name": "python3"
  },
  "language_info": {
   "codemirror_mode": {
    "name": "ipython",
    "version": 3
   },
   "file_extension": ".py",
   "mimetype": "text/x-python",
   "name": "python",
   "nbconvert_exporter": "python",
   "pygments_lexer": "ipython3",
   "version": "3.9.13"
  },
  "papermill": {
   "default_parameters": {},
   "duration": 99.99059,
   "end_time": "2023-11-20T11:14:02.641589",
   "environment_variables": {},
   "exception": null,
   "input_path": "__notebook__.ipynb",
   "output_path": "__notebook__.ipynb",
   "parameters": {},
   "start_time": "2023-11-20T11:12:22.650999",
   "version": "2.4.0"
  }
 },
 "nbformat": 4,
 "nbformat_minor": 5
}
